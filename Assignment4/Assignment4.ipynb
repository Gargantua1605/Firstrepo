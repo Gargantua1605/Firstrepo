{
 "cells": [
  {
   "cell_type": "markdown",
   "metadata": {},
   "source": [
    "# Assignment 4 : Neural Networks"
   ]
  },
  {
   "cell_type": "markdown",
   "metadata": {},
   "source": [
    "In this assignment, you will design an artificial neural network for a binary classification task. We will use Keras for implementing the neural network in this assignment. You can also use numpy, pandas and/or scikit-learn wherever you find them useful. You'll also need matplotlib"
   ]
  },
  {
   "cell_type": "markdown",
   "metadata": {},
   "source": [
    "#### Import the required libraries here"
   ]
  },
  {
   "cell_type": "code",
   "execution_count": 4,
   "metadata": {},
   "outputs": [],
   "source": [
    "import numpy as np\n",
    "import pandas as pd\n",
    "import matplotlib.pyplot as plt\n",
    "from tensorflow import keras"
   ]
  },
  {
   "cell_type": "markdown",
   "metadata": {},
   "source": [
    "Load the dataset from the file named 'data.csv' . You'll find 7200 datapoints in this file. The first 6 columns are the features (X), while the last column has a binary label (Y) for each feature vector. After loading the dataset, divide it into a training set and a test set (cross-validation set to be more accurate). You can have 70% datapoints in the training set and 30% in the test set. An 80-20 split is also acceptable.\n",
    "\n",
    "Normalize your training set using mean and variances."
   ]
  },
  {
   "cell_type": "code",
   "execution_count": 5,
   "metadata": {},
   "outputs": [],
   "source": [
    "X_Y=np.loadtxt(\"data.csv\",delimiter=',')\n",
    "shape=X_Y.shape\n",
    "Y_TRAIN=X_Y[:int(0.7*shape[0]),6]\n",
    "X_TRAIN=X_Y[:int(0.7*shape[0]),:-1]\n",
    "Y_TEST=X_Y[-int(0.3*shape[0]):,6]\n",
    "X_TEST=X_Y[-int(0.3*shape[0]):,:-1]\n",
    "\n",
    "for i in range (X_TRAIN.shape[1]):\n",
    "    X_TRAIN[:,i]=(X_TRAIN[:,i]-np.mean(X_TRAIN[:,i]))/np.std(X_TRAIN[:,i])\n",
    "    X_TEST[:,i]=(X_TEST[:,i]-np.mean(X_TEST[:,i]))/np.std(X_TEST[:,i])"
   ]
  },
  {
   "cell_type": "markdown",
   "metadata": {},
   "source": [
    "Find the number of positive and negative samples in the training set /test set /the whole dataset. You'll use this result while evaluating your neural network model later."
   ]
  },
  {
   "cell_type": "code",
   "execution_count": 8,
   "metadata": {},
   "outputs": [],
   "source": [
    "Y_TRAIN_POSITIVE=np.count_nonzero(Y_TRAIN ==1)\n",
    "Y_TRAIN_NEGATIVE=np.count_nonzero(Y_TRAIN ==0)\n",
    "Y_TEST_POSITIVE=np.count_nonzero(Y_TEST ==1)\n",
    "Y_TEST_NEGATIVE=np.count_nonzero(Y_TEST ==0)\n"
   ]
  },
  {
   "cell_type": "markdown",
   "metadata": {},
   "source": [
    "#### Define the architecture of the neural network\n",
    "\n",
    "Initialise a sequential neural network model using keras.models.Sequential(), and add dense layers (dense layer means fully-connected layer) to it using keras.layers.Dense() (you easily how to do this from the internet).\n",
    "\n",
    "Use ReLU activation function in every layer, except the last one, where you'll use the sigmoid activation function, since it's a binary classification task.\n",
    "\n",
    "The choice of the number of layers and the number of units in a layer is totally up to you."
   ]
  },
  {
   "cell_type": "code",
   "execution_count": 60,
   "metadata": {},
   "outputs": [],
   "source": [
    "from keras.models import Sequential \n",
    "from keras.layers import Activation, Dense \n",
    "model = Sequential() \n",
    "layer_1 = Dense(4,activation=\"relu\")\n",
    "model.add(layer_1)\n",
    "layer_2 = Dense(4,activation=\"relu\")\n",
    "model.add(layer_2)\n",
    "layer_3 = Dense(4,activation=\"relu\")\n",
    "model.add(layer_3)\n",
    "layer_4 = Dense(1,activation=\"sigmoid\")\n",
    "model.add(layer_4)\n",
    "\n",
    "\n"
   ]
  },
  {
   "cell_type": "markdown",
   "metadata": {},
   "source": [
    "#### Training the neural network\n",
    "\n",
    "1. Compile your nn model using model.compile() . Use the appropriate loss function (binary cross-entropy), and use Adam optimizer. Pass on 'accuracy' as a metric, so that you get to see the accuracy on your training set after every iteration of Adam optimization (a form of mini-batch gradient descent).\n",
    "\n",
    "Try to look-up and learn a bit about what stochastic gradient descent and mini-batch gradient descent essentilly are. You'll use mini-batches while training your model.\n",
    "\n",
    "2. Train your model using model.fit() (this will take a while, perhaps a few minutes). Use appropriate number of ephocs and batch size (you have to decide which values work the best). Don't forget that you have to train your model on the training set, and not the test set"
   ]
  },
  {
   "cell_type": "code",
   "execution_count": 67,
   "metadata": {},
   "outputs": [
    {
     "name": "stdout",
     "output_type": "stream",
     "text": [
      "Epoch 1/60\n",
      "630/630 [==============================] - 1s 947us/step - loss: 0.0489 - accuracy: 0.9798\n",
      "Epoch 2/60\n",
      "630/630 [==============================] - 1s 1ms/step - loss: 0.0550 - accuracy: 0.9765\n",
      "Epoch 3/60\n",
      "630/630 [==============================] - 1s 1ms/step - loss: 0.0554 - accuracy: 0.9754\n",
      "Epoch 4/60\n",
      "630/630 [==============================] - 1s 900us/step - loss: 0.0496 - accuracy: 0.9790\n",
      "Epoch 5/60\n",
      "630/630 [==============================] - 1s 900us/step - loss: 0.0519 - accuracy: 0.9772\n",
      "Epoch 6/60\n",
      "630/630 [==============================] - 1s 888us/step - loss: 0.0520 - accuracy: 0.9781\n",
      "Epoch 7/60\n",
      "630/630 [==============================] - 1s 880us/step - loss: 0.0488 - accuracy: 0.9797\n",
      "Epoch 8/60\n",
      "630/630 [==============================] - 1s 851us/step - loss: 0.0513 - accuracy: 0.9766\n",
      "Epoch 9/60\n",
      "630/630 [==============================] - 1s 862us/step - loss: 0.0523 - accuracy: 0.9777\n",
      "Epoch 10/60\n",
      "630/630 [==============================] - 1s 843us/step - loss: 0.0531 - accuracy: 0.9773\n",
      "Epoch 11/60\n",
      "630/630 [==============================] - 1s 853us/step - loss: 0.0491 - accuracy: 0.9790\n",
      "Epoch 12/60\n",
      "630/630 [==============================] - 1s 834us/step - loss: 0.0518 - accuracy: 0.9761\n",
      "Epoch 13/60\n",
      "630/630 [==============================] - 1s 809us/step - loss: 0.0445 - accuracy: 0.9823\n",
      "Epoch 14/60\n",
      "630/630 [==============================] - 1s 841us/step - loss: 0.0470 - accuracy: 0.9821\n",
      "Epoch 15/60\n",
      "630/630 [==============================] - 1s 854us/step - loss: 0.0581 - accuracy: 0.9769\n",
      "Epoch 16/60\n",
      "630/630 [==============================] - 1s 826us/step - loss: 0.0492 - accuracy: 0.9802\n",
      "Epoch 17/60\n",
      "630/630 [==============================] - 1s 846us/step - loss: 0.0550 - accuracy: 0.9750\n",
      "Epoch 18/60\n",
      "630/630 [==============================] - 1s 860us/step - loss: 0.0437 - accuracy: 0.9817TA: 0s - loss: 0.0330 \n",
      "Epoch 19/60\n",
      "630/630 [==============================] - 1s 844us/step - loss: 0.0504 - accuracy: 0.9787\n",
      "Epoch 20/60\n",
      "630/630 [==============================] - 1s 797us/step - loss: 0.0494 - accuracy: 0.9792\n",
      "Epoch 21/60\n",
      "630/630 [==============================] - 1s 901us/step - loss: 0.0552 - accuracy: 0.9767\n",
      "Epoch 22/60\n",
      "630/630 [==============================] - 1s 951us/step - loss: 0.0466 - accuracy: 0.9811\n",
      "Epoch 23/60\n",
      "630/630 [==============================] - 1s 879us/step - loss: 0.0522 - accuracy: 0.9776\n",
      "Epoch 24/60\n",
      "630/630 [==============================] - 1s 1ms/step - loss: 0.0507 - accuracy: 0.9783\n",
      "Epoch 25/60\n",
      "630/630 [==============================] - 1s 1ms/step - loss: 0.0479 - accuracy: 0.9810\n",
      "Epoch 26/60\n",
      "630/630 [==============================] - 1s 847us/step - loss: 0.0507 - accuracy: 0.9784\n",
      "Epoch 27/60\n",
      "630/630 [==============================] - 1s 900us/step - loss: 0.0470 - accuracy: 0.9787\n",
      "Epoch 28/60\n",
      "630/630 [==============================] - 1s 835us/step - loss: 0.0490 - accuracy: 0.9791\n",
      "Epoch 29/60\n",
      "630/630 [==============================] - 1s 850us/step - loss: 0.0525 - accuracy: 0.9774\n",
      "Epoch 30/60\n",
      "630/630 [==============================] - 1s 819us/step - loss: 0.0467 - accuracy: 0.9817\n",
      "Epoch 31/60\n",
      "630/630 [==============================] - 1s 850us/step - loss: 0.0516 - accuracy: 0.9774\n",
      "Epoch 32/60\n",
      "630/630 [==============================] - 1s 895us/step - loss: 0.0505 - accuracy: 0.9783\n",
      "Epoch 33/60\n",
      "630/630 [==============================] - 1s 845us/step - loss: 0.0439 - accuracy: 0.9840\n",
      "Epoch 34/60\n",
      "630/630 [==============================] - 1s 941us/step - loss: 0.0472 - accuracy: 0.9796\n",
      "Epoch 35/60\n",
      "630/630 [==============================] - 1s 902us/step - loss: 0.0518 - accuracy: 0.9781\n",
      "Epoch 36/60\n",
      "630/630 [==============================] - 1s 837us/step - loss: 0.0516 - accuracy: 0.9785\n",
      "Epoch 37/60\n",
      "630/630 [==============================] - 1s 891us/step - loss: 0.0503 - accuracy: 0.9787\n",
      "Epoch 38/60\n",
      "630/630 [==============================] - 1s 904us/step - loss: 0.0462 - accuracy: 0.9809\n",
      "Epoch 39/60\n",
      "630/630 [==============================] - 1s 862us/step - loss: 0.0540 - accuracy: 0.9773\n",
      "Epoch 40/60\n",
      "630/630 [==============================] - 1s 846us/step - loss: 0.0456 - accuracy: 0.9816\n",
      "Epoch 41/60\n",
      "630/630 [==============================] - ETA: 0s - loss: 0.0475 - accuracy: 0.98 - 1s 919us/step - loss: 0.0475 - accuracy: 0.9815\n",
      "Epoch 42/60\n",
      "630/630 [==============================] - 1s 1ms/step - loss: 0.0466 - accuracy: 0.9798\n",
      "Epoch 43/60\n",
      "630/630 [==============================] - 1s 817us/step - loss: 0.0486 - accuracy: 0.9791\n",
      "Epoch 44/60\n",
      "630/630 [==============================] - 1s 902us/step - loss: 0.0441 - accuracy: 0.9830\n",
      "Epoch 45/60\n",
      "630/630 [==============================] - 1s 892us/step - loss: 0.0479 - accuracy: 0.9804\n",
      "Epoch 46/60\n",
      "630/630 [==============================] - 1s 879us/step - loss: 0.0445 - accuracy: 0.9808\n",
      "Epoch 47/60\n",
      "630/630 [==============================] - 1s 904us/step - loss: 0.0477 - accuracy: 0.9806\n",
      "Epoch 48/60\n",
      "630/630 [==============================] - 1s 1ms/step - loss: 0.0463 - accuracy: 0.9817\n",
      "Epoch 49/60\n",
      "630/630 [==============================] - 1s 924us/step - loss: 0.0413 - accuracy: 0.9847\n",
      "Epoch 50/60\n",
      "630/630 [==============================] - 1s 934us/step - loss: 0.0442 - accuracy: 0.9823\n",
      "Epoch 51/60\n",
      "630/630 [==============================] - 1s 1ms/step - loss: 0.0497 - accuracy: 0.9794\n",
      "Epoch 52/60\n",
      "630/630 [==============================] - 1s 1ms/step - loss: 0.0486 - accuracy: 0.9795\n",
      "Epoch 53/60\n",
      "630/630 [==============================] - 1s 1ms/step - loss: 0.0478 - accuracy: 0.9793\n",
      "Epoch 54/60\n",
      "630/630 [==============================] - 1s 1ms/step - loss: 0.0460 - accuracy: 0.9814\n",
      "Epoch 55/60\n",
      "630/630 [==============================] - 1s 1ms/step - loss: 0.0483 - accuracy: 0.9815: 0s\n",
      "Epoch 56/60\n",
      "630/630 [==============================] - 1s 1ms/step - loss: 0.0484 - accuracy: 0.9800\n",
      "Epoch 57/60\n",
      "630/630 [==============================] - 1s 975us/step - loss: 0.0465 - accuracy: 0.9805\n",
      "Epoch 58/60\n",
      "630/630 [==============================] - 1s 1ms/step - loss: 0.0512 - accuracy: 0.9777\n",
      "Epoch 59/60\n",
      "630/630 [==============================] - 1s 910us/step - loss: 0.0469 - accuracy: 0.9804\n",
      "Epoch 60/60\n",
      "630/630 [==============================] - 1s 1ms/step - loss: 0.0480 - accuracy: 0.9799\n",
      "[[1.1655482e-28]\n",
      " [1.6094429e-36]\n",
      " [2.4265155e-36]\n",
      " ...\n",
      " [0.0000000e+00]\n",
      " [3.0503791e-28]\n",
      " [8.9115750e-38]]\n"
     ]
    }
   ],
   "source": [
    "from keras import losses \n",
    "from keras import optimizers \n",
    "from keras import metrics \n",
    "\n",
    "model.compile(loss = 'binary_crossentropy',  \n",
    "   optimizer = 'Adam', metrics = ['accuracy'])\n",
    "model.fit(X_TRAIN, Y_TRAIN, batch_size =8,epochs =60 )\n",
    "Y_PREDICT_SCORE=model.predict(X_TEST)\n",
    "print(Y_PREDICT_SCORE)"
   ]
  },
  {
   "cell_type": "markdown",
   "metadata": {},
   "source": [
    "#### Evaluation of the model on the test set\n",
    "\n",
    "Find the accuracy of your trained model on the test set. Don't forget that you had normalized your training set before training the same model."
   ]
  },
  {
   "cell_type": "code",
   "execution_count": 47,
   "metadata": {},
   "outputs": [
    {
     "name": "stdout",
     "output_type": "stream",
     "text": [
      "68/68 [==============================] - 0s 627us/step - loss: 0.0874 - accuracy: 0.9662\n",
      "[0.08736103773117065, 0.9662036895751953]\n"
     ]
    }
   ],
   "source": [
    "print(model.evaluate(X_TEST,Y_TEST))\n"
   ]
  },
  {
   "cell_type": "markdown",
   "metadata": {},
   "source": [
    "Is accuracy really the best metric to evaluate our model on the test set here? What was the proportion of positive samples to negative samples in the dataset? What would have been the accuracy of a model that would have output '0' for any input? By the way, this dataset is for detecting the presence of thyroid in a patient.\n",
    "\n",
    "Now, find out about the metrics - recall, precision and F1-score. Use these metrics to evaluate your model on the test set"
   ]
  },
  {
   "cell_type": "code",
   "execution_count": 66,
   "metadata": {},
   "outputs": [
    {
     "name": "stdout",
     "output_type": "stream",
     "text": [
      "0.8851480978896635\n",
      "0.9023168287795102\n",
      "0.8935025817555937\n"
     ]
    }
   ],
   "source": [
    "from sklearn.metrics import f1_score, precision_score, recall_score, confusion_matrix\n",
    "Y_PREDICT=np.where(Y_PREDICT_SCORE>=0.5,1,0)\n",
    "print(precision_score(Y_TEST, Y_PREDICT , average=\"macro\"))\n",
    "print(recall_score(Y_TEST, Y_PREDICT , average=\"macro\"))\n",
    "print(f1_score(Y_TEST, Y_PREDICT , average=\"macro\"))\n"
   ]
  },
  {
   "cell_type": "markdown",
   "metadata": {},
   "source": [
    "Now, tune the hyperparameters of your model (like number of layers, number of units in different layers, etc.) to try and do better and better on the test set."
   ]
  },
  {
   "cell_type": "markdown",
   "metadata": {},
   "source": [
    "\n",
    "#### Plotting histograms based on prediction values\n",
    "\n",
    "Now, you will plot 2 historgrams of prediction values (0 to 1, or 0% to 100%) on the training data, output by your nn model - one histogram for positive samples and another for negative samples. Plot both the histograms in the same figure. \n",
    "\n",
    "Here's one such plot I made with my nn model:\n",
    "<img src=\"files/index.jpeg\">\n",
    "\n",
    "The blue histogram is for negative samples and the red one is for positive samples (add a legend to the plots, unlike me).\n",
    "\n",
    "Use log-scale on the y-axis (number of occurances in the given predicted value range), like I have done.\n",
    "\n",
    "Now, what can you infer from the histograms you got? How should an ideal pair of histograms look like?"
   ]
  },
  {
   "cell_type": "code",
   "execution_count": 63,
   "metadata": {},
   "outputs": [
    {
     "data": {
      "image/png": "[encoded data removed]",
      "text/plain": [
       "<Figure size 2160x1800 with 1 Axes>"
      ]
     },
     "metadata": {
      "needs_background": "light"
     },
     "output_type": "display_data"
    }
   ],
   "source": [
    "import matplotlib.pyplot as plt\n",
    "red = Y_PREDICT_SCORE[tuple(np.where(Y_TEST==1))]\n",
    "blue = Y_PREDICT_SCORE[tuple(np.where(Y_TEST==0))]\n",
    "plt.rcParams.update({'font.size' : 22})\n",
    "plt.rc('xtick', labelsize = 20)\n",
    "plt.rc('ytick', labelsize = 20)\n",
    "figure, axis = plt.subplots(figsize = (30, 25))\n",
    "nbins = 10\n",
    "axis.hist(blue, nbins, range = [0, 1], log = True, alpha = 0.5, label = 'Negative')\n",
    "axis.hist(red, nbins, range = [0, 1], log = True, alpha = 0.5, label = 'Positive')\n",
    "plt.xlabel(\"Anomaly Score\", size = 30)\n",
    "plt.ylabel(\"Occurances\", size = 30)\n",
    "plt.legend(loc = 'upper right')\n",
    "plt.show()"
   ]
  },
  {
   "cell_type": "code",
   "execution_count": null,
   "metadata": {},
   "outputs": [],
   "source": []
  },
  {
   "cell_type": "code",
   "execution_count": null,
   "metadata": {},
   "outputs": [],
   "source": []
  }
 ],
 "metadata": {
  "kernelspec": {
   "display_name": "Python 3",
   "language": "python",
   "name": "python3"
  },
  "language_info": {
   "codemirror_mode": {
    "name": "ipython",
    "version": 3
   },
   "file_extension": ".py",
   "mimetype": "text/x-python",
   "name": "python",
   "nbconvert_exporter": "python",
   "pygments_lexer": "ipython3",
   "version": "3.8.5"
  }
 },
 "nbformat": 4,
 "nbformat_minor": 5
}
