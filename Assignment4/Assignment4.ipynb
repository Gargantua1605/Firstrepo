{
 "cells": [
  {
   "cell_type": "markdown",
   "metadata": {},
   "source": [
    "# Assignment 4 : Neural Networks"
   ]
  },
  {
   "cell_type": "markdown",
   "metadata": {},
   "source": [
    "In this assignment, you will design an artificial neural network for a binary classification task. We will use Keras for implementing the neural network in this assignment. You can also use numpy, pandas and/or scikit-learn wherever you find them useful. You'll also need matplotlib"
   ]
  },
  {
   "cell_type": "markdown",
   "metadata": {},
   "source": [
    "#### Import the required libraries here"
   ]
  },
  {
   "cell_type": "code",
   "execution_count": 3,
   "metadata": {},
   "outputs": [],
   "source": [
    "import numpy as np\n",
    "import pandas as pd\n",
    "import matplotlib.pyplot as plt\n",
    "from tensorflow import keras"
   ]
  },
  {
   "cell_type": "markdown",
   "metadata": {},
   "source": [
    "Load the dataset from the file named 'data.csv' . You'll find 7200 datapoints in this file. The first 6 columns are the features (X), while the last column has a binary label (Y) for each feature vector. After loading the dataset, divide it into a training set and a test set (cross-validation set to be more accurate). You can have 70% datapoints in the training set and 30% in the test set. An 80-20 split is also acceptable.\n",
    "\n",
    "Normalize your training set using mean and variances."
   ]
  },
  {
   "cell_type": "code",
   "execution_count": 4,
   "metadata": {},
   "outputs": [],
   "source": [
    "X_Y=np.loadtxt(\"data.csv\",delimiter=',')\n",
    "shape=X_Y.shape\n",
    "Y_TRAIN=X_Y[:int(0.7*shape[0]),6]\n",
    "X_TRAIN=X_Y[:int(0.7*shape[0]),:-1]\n",
    "Y_TEST=X_Y[-int(0.3*shape[0]):,6]\n",
    "X_TEST=X_Y[-int(0.3*shape[0]):,:-1]\n",
    "\n",
    "for i in range (X_TRAIN.shape[1]):\n",
    "    X_TRAIN[:,i]=(X_TRAIN[:,i]-np.mean(X_TRAIN[:,i]))/np.std(X_TRAIN[:,i])\n",
    "    X_TEST[:,i]=(X_TEST[:,i]-np.mean(X_TEST[:,i]))/np.std(X_TEST[:,i])"
   ]
  },
  {
   "cell_type": "markdown",
   "metadata": {},
   "source": [
    "Find the number of positive and negative samples in the training set /test set /the whole dataset. You'll use this result while evaluating your neural network model later."
   ]
  },
  {
   "cell_type": "code",
   "execution_count": 5,
   "metadata": {},
   "outputs": [],
   "source": [
    "Y_TRAIN_POSITIVE=np.count_nonzero(Y_TRAIN ==1)\n",
    "Y_TRAIN_NEGATIVE=np.count_nonzero(Y_TRAIN ==0)\n",
    "Y_TEST_POSITIVE=np.count_nonzero(Y_TEST ==1)\n",
    "Y_TEST_NEGATIVE=np.count_nonzero(Y_TEST ==0)\n"
   ]
  },
  {
   "cell_type": "markdown",
   "metadata": {},
   "source": [
    "#### Define the architecture of the neural network\n",
    "\n",
    "Initialise a sequential neural network model using keras.models.Sequential(), and add dense layers (dense layer means fully-connected layer) to it using keras.layers.Dense() (you easily how to do this from the internet).\n",
    "\n",
    "Use ReLU activation function in every layer, except the last one, where you'll use the sigmoid activation function, since it's a binary classification task.\n",
    "\n",
    "The choice of the number of layers and the number of units in a layer is totally up to you."
   ]
  },
  {
   "cell_type": "code",
   "execution_count": 11,
   "metadata": {},
   "outputs": [],
   "source": [
    "from keras.models import Sequential \n",
    "from keras.layers import Activation, Dense \n",
    "model = Sequential() \n",
    "layer_1 = Dense(4,activation=\"relu\")\n",
    "model.add(layer_1)\n",
    "layer_2 = Dense(4,activation=\"relu\")\n",
    "model.add(layer_2)\n",
    "layer_3 = Dense(4,activation=\"relu\")\n",
    "model.add(layer_3)\n",
    "layer_4 = Dense(1,activation=\"sigmoid\")\n",
    "model.add(layer_4)\n",
    "\n",
    "\n"
   ]
  },
  {
   "cell_type": "markdown",
   "metadata": {},
   "source": [
    "#### Training the neural network\n",
    "\n",
    "1. Compile your nn model using model.compile() . Use the appropriate loss function (binary cross-entropy), and use Adam optimizer. Pass on 'accuracy' as a metric, so that you get to see the accuracy on your training set after every iteration of Adam optimization (a form of mini-batch gradient descent).\n",
    "\n",
    "Try to look-up and learn a bit about what stochastic gradient descent and mini-batch gradient descent essentilly are. You'll use mini-batches while training your model.\n",
    "\n",
    "2. Train your model using model.fit() (this will take a while, perhaps a few minutes). Use appropriate number of ephocs and batch size (you have to decide which values work the best). Don't forget that you have to train your model on the training set, and not the test set"
   ]
  },
  {
   "cell_type": "code",
   "execution_count": 12,
   "metadata": {},
   "outputs": [
    {
     "name": "stdout",
     "output_type": "stream",
     "text": [
      "Epoch 1/45\n",
      "504/504 [==============================] - 2s 2ms/step - loss: 0.6829 - accuracy: 0.7606\n",
      "Epoch 2/45\n",
      "504/504 [==============================] - 1s 2ms/step - loss: 0.4878 - accuracy: 0.9349\n",
      "Epoch 3/45\n",
      "504/504 [==============================] - 1s 2ms/step - loss: 0.1894 - accuracy: 0.9391\n",
      "Epoch 4/45\n",
      "504/504 [==============================] - 1s 2ms/step - loss: 0.1402 - accuracy: 0.9490\n",
      "Epoch 5/45\n",
      "504/504 [==============================] - 1s 2ms/step - loss: 0.1081 - accuracy: 0.9558\n",
      "Epoch 6/45\n",
      "504/504 [==============================] - 1s 2ms/step - loss: 0.0925 - accuracy: 0.9627\n",
      "Epoch 7/45\n",
      "504/504 [==============================] - 1s 2ms/step - loss: 0.0865 - accuracy: 0.9628\n",
      "Epoch 8/45\n",
      "504/504 [==============================] - 1s 2ms/step - loss: 0.0736 - accuracy: 0.9723\n",
      "Epoch 9/45\n",
      "504/504 [==============================] - 1s 2ms/step - loss: 0.0709 - accuracy: 0.9677\n",
      "Epoch 10/45\n",
      "504/504 [==============================] - 1s 3ms/step - loss: 0.0672 - accuracy: 0.9698\n",
      "Epoch 11/45\n",
      "504/504 [==============================] - 1s 2ms/step - loss: 0.0656 - accuracy: 0.9690\n",
      "Epoch 12/45\n",
      "504/504 [==============================] - 1s 2ms/step - loss: 0.0559 - accuracy: 0.9754\n",
      "Epoch 13/45\n",
      "504/504 [==============================] - 1s 2ms/step - loss: 0.0594 - accuracy: 0.9750\n",
      "Epoch 14/45\n",
      "504/504 [==============================] - 1s 2ms/step - loss: 0.0560 - accuracy: 0.9729\n",
      "Epoch 15/45\n",
      "504/504 [==============================] - 1s 2ms/step - loss: 0.0555 - accuracy: 0.9758\n",
      "Epoch 16/45\n",
      "504/504 [==============================] - 1s 2ms/step - loss: 0.0537 - accuracy: 0.9764\n",
      "Epoch 17/45\n",
      "504/504 [==============================] - 1s 2ms/step - loss: 0.0597 - accuracy: 0.9713\n",
      "Epoch 18/45\n",
      "504/504 [==============================] - 1s 2ms/step - loss: 0.0521 - accuracy: 0.9758\n",
      "Epoch 19/45\n",
      "504/504 [==============================] - 1s 2ms/step - loss: 0.0478 - accuracy: 0.9795\n",
      "Epoch 20/45\n",
      "504/504 [==============================] - 1s 2ms/step - loss: 0.0544 - accuracy: 0.9736\n",
      "Epoch 21/45\n",
      "504/504 [==============================] - 1s 2ms/step - loss: 0.0517 - accuracy: 0.9773\n",
      "Epoch 22/45\n",
      "504/504 [==============================] - 1s 2ms/step - loss: 0.0517 - accuracy: 0.9788\n",
      "Epoch 23/45\n",
      "504/504 [==============================] - 1s 2ms/step - loss: 0.0512 - accuracy: 0.9758\n",
      "Epoch 24/45\n",
      "504/504 [==============================] - 1s 2ms/step - loss: 0.0544 - accuracy: 0.9753\n",
      "Epoch 25/45\n",
      "504/504 [==============================] - 1s 2ms/step - loss: 0.0493 - accuracy: 0.9776\n",
      "Epoch 26/45\n",
      "504/504 [==============================] - 1s 2ms/step - loss: 0.0555 - accuracy: 0.9726\n",
      "Epoch 27/45\n",
      "504/504 [==============================] - 1s 2ms/step - loss: 0.0590 - accuracy: 0.9709\n",
      "Epoch 28/45\n",
      "504/504 [==============================] - 1s 2ms/step - loss: 0.0542 - accuracy: 0.9761\n",
      "Epoch 29/45\n",
      "504/504 [==============================] - 1s 2ms/step - loss: 0.0458 - accuracy: 0.9799\n",
      "Epoch 30/45\n",
      "504/504 [==============================] - 1s 2ms/step - loss: 0.0491 - accuracy: 0.9784\n",
      "Epoch 31/45\n",
      "504/504 [==============================] - 1s 2ms/step - loss: 0.0487 - accuracy: 0.9783\n",
      "Epoch 32/45\n",
      "504/504 [==============================] - 1s 2ms/step - loss: 0.0502 - accuracy: 0.9782\n",
      "Epoch 33/45\n",
      "504/504 [==============================] - 1s 2ms/step - loss: 0.0435 - accuracy: 0.9814\n",
      "Epoch 34/45\n",
      "504/504 [==============================] - 1s 2ms/step - loss: 0.0496 - accuracy: 0.9779\n",
      "Epoch 35/45\n",
      "504/504 [==============================] - 1s 2ms/step - loss: 0.0480 - accuracy: 0.9793\n",
      "Epoch 36/45\n",
      "504/504 [==============================] - 1s 2ms/step - loss: 0.0494 - accuracy: 0.9759\n",
      "Epoch 37/45\n",
      "504/504 [==============================] - 1s 2ms/step - loss: 0.0490 - accuracy: 0.9776\n",
      "Epoch 38/45\n",
      "504/504 [==============================] - 1s 2ms/step - loss: 0.0462 - accuracy: 0.9799\n",
      "Epoch 39/45\n",
      "504/504 [==============================] - 1s 2ms/step - loss: 0.0485 - accuracy: 0.9782\n",
      "Epoch 40/45\n",
      "504/504 [==============================] - 1s 2ms/step - loss: 0.0476 - accuracy: 0.9765\n",
      "Epoch 41/45\n",
      "504/504 [==============================] - 1s 2ms/step - loss: 0.0478 - accuracy: 0.9783\n",
      "Epoch 42/45\n",
      "504/504 [==============================] - 1s 2ms/step - loss: 0.0476 - accuracy: 0.9803\n",
      "Epoch 43/45\n",
      "504/504 [==============================] - 1s 2ms/step - loss: 0.0427 - accuracy: 0.9813\n",
      "Epoch 44/45\n",
      "504/504 [==============================] - 1s 2ms/step - loss: 0.0508 - accuracy: 0.9756\n",
      "Epoch 45/45\n",
      "504/504 [==============================] - 1s 2ms/step - loss: 0.0535 - accuracy: 0.9747\n",
      "[[1.6473251e-08]\n",
      " [7.0342329e-11]\n",
      " [1.2497057e-11]\n",
      " ...\n",
      " [2.8271997e-13]\n",
      " [5.4002562e-09]\n",
      " [5.5435370e-12]]\n"
     ]
    }
   ],
   "source": [
    "from keras import losses \n",
    "from keras import optimizers \n",
    "from keras import metrics \n",
    "\n",
    "model.compile(loss = 'binary_crossentropy',  \n",
    "   optimizer = 'Adam', metrics = ['accuracy'])\n",
    "model.fit(X_TRAIN, Y_TRAIN, batch_size =10,epochs =45)\n",
    "Y_PREDICT_SCORE=model.predict(X_TEST)\n",
    "print(Y_PREDICT_SCORE)"
   ]
  },
  {
   "cell_type": "markdown",
   "metadata": {},
   "source": [
    "#### Evaluation of the model on the test set\n",
    "\n",
    "Find the accuracy of your trained model on the test set. Don't forget that you had normalized your training set before training the same model."
   ]
  },
  {
   "cell_type": "code",
   "execution_count": 13,
   "metadata": {},
   "outputs": [
    {
     "name": "stdout",
     "output_type": "stream",
     "text": [
      "68/68 [==============================] - 0s 2ms/step - loss: 0.0819 - accuracy: 0.9699\n",
      "[0.08193428069353104, 0.9699074029922485]\n"
     ]
    }
   ],
   "source": [
    "print(model.evaluate(X_TEST,Y_TEST))\n"
   ]
  },
  {
   "cell_type": "markdown",
   "metadata": {},
   "source": [
    "Is accuracy really the best metric to evaluate our model on the test set here? What was the proportion of positive samples to negative samples in the dataset? What would have been the accuracy of a model that would have output '0' for any input? By the way, this dataset is for detecting the presence of thyroid in a patient.\n",
    "\n",
    "Now, find out about the metrics - recall, precision and F1-score. Use these metrics to evaluate your model on the test set"
   ]
  },
  {
   "cell_type": "code",
   "execution_count": 14,
   "metadata": {},
   "outputs": [
    {
     "name": "stdout",
     "output_type": "stream",
     "text": [
      "0.8935780972071605\n",
      "0.8913742118383108\n",
      "0.8924723771186733\n"
     ]
    }
   ],
   "source": [
    "from sklearn.metrics import f1_score, precision_score, recall_score, confusion_matrix\n",
    "Y_PREDICT=np.where(Y_PREDICT_SCORE>=0.5,1,0)\n",
    "print(precision_score(Y_TEST, Y_PREDICT , average=\"macro\"))\n",
    "print(recall_score(Y_TEST, Y_PREDICT , average=\"macro\"))\n",
    "print(f1_score(Y_TEST, Y_PREDICT , average=\"macro\"))\n"
   ]
  },
  {
   "cell_type": "markdown",
   "metadata": {},
   "source": [
    "Now, tune the hyperparameters of your model (like number of layers, number of units in different layers, etc.) to try and do better and better on the test set."
   ]
  },
  {
   "cell_type": "markdown",
   "metadata": {},
   "source": [
    "\n",
    "#### Plotting histograms based on prediction values\n",
    "\n",
    "Now, you will plot 2 historgrams of prediction values (0 to 1, or 0% to 100%) on the training data, output by your nn model - one histogram for positive samples and another for negative samples. Plot both the histograms in the same figure. \n",
    "\n",
    "Here's one such plot I made with my nn model:\n",
    "<img src=\"files/index.jpeg\">\n",
    "\n",
    "The blue histogram is for negative samples and the red one is for positive samples (add a legend to the plots, unlike me).\n",
    "\n",
    "Use log-scale on the y-axis (number of occurances in the given predicted value range), like I have done.\n",
    "\n",
    "Now, what can you infer from the histograms you got? How should an ideal pair of histograms look like?"
   ]
  },
  {
   "cell_type": "code",
   "execution_count": 15,
   "metadata": {},
   "outputs": [
    {
     "data": {
      "image/png": "[encoded data removed]",
      "text/plain": [
       "<Figure size 2160x1800 with 1 Axes>"
      ]
     },
     "metadata": {
      "needs_background": "light"
     },
     "output_type": "display_data"
    }
   ],
   "source": [
    "import matplotlib.pyplot as plt\n",
    "red = Y_PREDICT_SCORE[tuple(np.where(Y_TEST==1))]\n",
    "blue = Y_PREDICT_SCORE[tuple(np.where(Y_TEST==0))]\n",
    "plt.rcParams.update({'font.size' : 22})\n",
    "plt.rc('xtick', labelsize = 20)\n",
    "plt.rc('ytick', labelsize = 20)\n",
    "figure, axis = plt.subplots(figsize = (30, 25))\n",
    "nbins = 10\n",
    "axis.hist(blue, nbins, range = [0, 1], log = True, alpha = 0.5, label = 'Negative')\n",
    "axis.hist(red, nbins, range = [0, 1], log = True, alpha = 0.5, label = 'Positive')\n",
    "plt.xlabel(\"Anomaly Score\", size = 30)\n",
    "plt.ylabel(\"Occurances\", size = 30)\n",
    "plt.legend(loc = 'upper right')\n",
    "plt.show()"
   ]
  },
  {
   "cell_type": "code",
   "execution_count": null,
   "metadata": {},
   "outputs": [],
   "source": []
  },
  {
   "cell_type": "code",
   "execution_count": null,
   "metadata": {},
   "outputs": [],
   "source": []
  }
 ],
 "metadata": {
  "kernelspec": {
   "display_name": "Python 3",
   "language": "python",
   "name": "python3"
  },
  "language_info": {
   "codemirror_mode": {
    "name": "ipython",
    "version": 3
   },
   "file_extension": ".py",
   "mimetype": "text/x-python",
   "name": "python",
   "nbconvert_exporter": "python",
   "pygments_lexer": "ipython3",
   "version": "3.8.5"
  }
 },
 "nbformat": 4,
 "nbformat_minor": 5
}
