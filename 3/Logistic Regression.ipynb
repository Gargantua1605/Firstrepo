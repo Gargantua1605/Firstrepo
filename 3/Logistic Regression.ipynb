{
 "cells": [
  {
   "cell_type": "markdown",
   "metadata": {},
   "source": [
    "# Assignment 3 : Logistic Regression"
   ]
  },
  {
   "cell_type": "markdown",
   "metadata": {},
   "source": [
    "In this assignment you have to use the logistic regression technique you learned in the week 3 of the prescribed course. You have to use numpy to complete the assignment"
   ]
  },
  {
   "cell_type": "markdown",
   "metadata": {},
   "source": [
    "#### Import other the libraries here"
   ]
  },
  {
   "cell_type": "code",
   "execution_count": 1,
   "metadata": {},
   "outputs": [],
   "source": [
    "import numpy as np\n",
    "import pandas as pd\n",
    "import matplotlib.pyplot as plt\n",
    "from sklearn.datasets import load_iris\n",
    "from sklearn.linear_model import LogisticRegression\n",
    "\n",
    "from sklearn.metrics import confusion_matrix\n"
   ]
  },
  {
   "cell_type": "markdown",
   "metadata": {},
   "source": [
    "##### Define these functions here:\n",
    "- Sigmoid function: `def sigmoid(x):`"
   ]
  },
  {
   "cell_type": "code",
   "execution_count": 2,
   "metadata": {},
   "outputs": [],
   "source": [
    "def sigmoid(x):\n",
    "    return(1/(1+np.exp(-x)))\n"
   ]
  },
  {
   "cell_type": "markdown",
   "metadata": {},
   "source": [
    "- cost function: `def cost_fn(x,y,theta):` (refer to the course)"
   ]
  },
  {
   "cell_type": "code",
   "execution_count": 26,
   "metadata": {},
   "outputs": [],
   "source": []
  },
  {
   "cell_type": "markdown",
   "metadata": {},
   "source": [
    "- Gradient descent: `def gradient_descent(X, y, theta, learning_rate=1, iters):`\n",
    "\n",
    "$\\frac{\\partial J}{\\partial \\theta} = \\frac{1}{m} \\Sigma_{i=1}^m ((h_\\theta(x^{(i)})-y^{(i)})x_j^{(i)})$\n",
    "\n",
    "$\\theta_{j+1}^{(i)} = \\theta_j^{(i)} - \\frac{1}{m} \\Sigma_{i=1}^m ((h_\\theta(x^{(i)})-y^{(i)})x_j^{(i)})$\n",
    "\n",
    "Since these are for each element of your matrix. The final expression will be: (if using matrices)\n",
    "$\\theta_{j+1} = \\theta_j - \\frac{1}{m} \\Sigma_{i=1}^m ((h_\\theta(x)-y)x_j)$\n",
    "\n",
    "You have to initialise $\\theta$ and update it at each iteration according to this gradient descent equation"
   ]
  },
  {
   "cell_type": "code",
   "execution_count": 3,
   "metadata": {},
   "outputs": [],
   "source": [
    "def gradient_descent(X, y, theta,  iters,learning_rate=1):\n",
    "    \n",
    "    m=X.shape[0]\n",
    "    H_X=np.zeros((m,10), dtype=float)\n",
    "    for a in range(10):\n",
    "        y_mod=y.copy()\n",
    "        theta_mod=theta.copy()\n",
    "        for b in range(m):\n",
    "            if(y[b]==a):\n",
    "                y_mod[b]=1\n",
    "            else :\n",
    "                y_mod[b]=0\n",
    "        \n",
    "        for i in range(iters):\n",
    "            h_X=sigmoid(np.dot(X,theta_mod)).copy()  \n",
    "            delta_theta=np.dot(X.T,(h_X-y_mod))\n",
    "            theta_mod=theta_mod-(learning_rate/m)*(delta_theta)\n",
    "            \n",
    "        \n",
    "        H_X[:,a]=h_X.reshape(5000,)\n",
    "       \n",
    "        \n",
    "    return(H_X)\n",
    "    "
   ]
  },
  {
   "cell_type": "markdown",
   "metadata": {},
   "source": [
    "- Predict: `def predict(X, y, theta, learning_rate=1, iters)`:"
   ]
  },
  {
   "cell_type": "code",
   "execution_count": 4,
   "metadata": {},
   "outputs": [],
   "source": [
    "def predict(X, y, theta,iters,learning_rate=1):\n",
    "    H_X= gradient_descent(X, y, theta, iters,learning_rate=1)\n",
    "    H_X_final=H_X.argmax(axis=1)\n",
    "    return H_X_final\n",
    "        \n",
    "    "
   ]
  },
  {
   "cell_type": "markdown",
   "metadata": {},
   "source": [
    "### Load MNSIT data here\n",
    "\n",
    "There are two file, X.csv and y.csv.\n",
    "You have to load these csv files (read about csv in python) and store them in python variables. \n",
    "There are 5000 images, each line in X.csv is an image (pixels of image of size 20x20 are concatenated to size 400x1) and each line is y.csv is the label of that image (label in n-th line in y.csv corresponds to image in n-th line in X.csv)"
   ]
  },
  {
   "cell_type": "code",
   "execution_count": 5,
   "metadata": {},
   "outputs": [],
   "source": [
    "x=np.loadtxt(\"X.csv\",delimiter=',')\n",
    "\n",
    "X=np.reshape(x,(5000,400))\n",
    "X=np.hstack((np.ones([5000,1]),X))\n",
    "y=np.loadtxt(\"y.csv\",delimiter=',')\n",
    "y=np.reshape(y,(5000,1))\n",
    "\n",
    "\n"
   ]
  },
  {
   "cell_type": "markdown",
   "metadata": {},
   "source": [
    "Now your task is to:\n",
    "1. Reshape these to 20x20 and show any 5 of them (random) here. \n",
    "2. For regression, you have to use the 400x1 data only. (X will be a 5000x400 matrix and y will be a 1x400 matrix)\n",
    "3. Get you prediction and compare it with the labels in y\n",
    "4. Calculate the error %"
   ]
  },
  {
   "cell_type": "code",
   "execution_count": 6,
   "metadata": {
    "scrolled": true
   },
   "outputs": [
    {
     "name": "stdout",
     "output_type": "stream",
     "text": [
      "The error is  6.88 %\n"
     ]
    },
    {
     "data": {
      "image/png": "[encoded data removed]",
      "text/plain": [
       "<Figure size 432x288 with 5 Axes>"
      ]
     },
     "metadata": {
      "needs_background": "light"
     },
     "output_type": "display_data"
    }
   ],
   "source": [
    "f = plt.figure()\n",
    "for i in range(1, 6):\n",
    "    f.add_subplot(2, 3, i)\n",
    "    plt.imshow(np.reshape(x[np.random.randint(5000)], (20, 20)).T)\n",
    "prediction=predict(X, y, np.ones([401,1]), 1000,0.01).copy()\n",
    "\n",
    "error=0\n",
    "for i in range (5000):\n",
    "    if(prediction[i]!=y[i]):\n",
    "        error+=1\n",
    "print(\"The error is \",error/50,\"%\")\n",
    "\n",
    "    "
   ]
  },
  {
   "cell_type": "markdown",
   "metadata": {},
   "source": [
    "Generate the [confusion matrix](https://en.wikipedia.org/wiki/Confusion_matrix) here and show it here: \n"
   ]
  },
  {
   "cell_type": "code",
   "execution_count": 7,
   "metadata": {},
   "outputs": [
    {
     "name": "stdout",
     "output_type": "stream",
     "text": [
      "[[495.   0.   3.   0.   3.   3.   2.   2.   1.   5.]\n",
      " [  0. 487.   3.   3.   2.   1.   2.   4.   6.   3.]\n",
      " [  0.   2. 447.  14.   5.   4.   0.   4.   6.   4.]\n",
      " [  0.   0.   4. 447.   0.  17.   0.   0.   5.   6.]\n",
      " [  1.   0.   9.   0. 465.   9.   0.   6.   4.   7.]\n",
      " [  0.   6.   3.  19.   0. 447.   7.   1.   7.   3.]\n",
      " [  3.   0.   3.   1.   3.   5. 485.   1.   5.   0.]\n",
      " [  0.   0.   9.   7.   0.   0.   1. 470.   1.  16.]\n",
      " [  1.   5.  15.   5.   3.  10.   2.   1. 460.   3.]\n",
      " [  0.   0.   4.   4.  19.   4.   1.  11.   5. 453.]]\n"
     ]
    }
   ],
   "source": [
    "\n",
    "confusion=np.zeros((10,10))\n",
    "prediction=predict(X, y, np.ones([401,1]), 1000,0.1).copy()\n",
    "\n",
    "for i in range(5000):\n",
    "    p=prediction[i]\n",
    "    q=y[i]\n",
    "    confusion[int(p)][int(q)]+=1\n",
    "print(confusion)\n",
    "        "
   ]
  },
  {
   "cell_type": "markdown",
   "metadata": {},
   "source": [
    "#### Bonus task: \n",
    "Use [scikit-learn](https://scikit-learn.org/stable/modules/generated/sklearn.linear_model.LogisticRegression.html) to perform logistic regression (just a single function which will handle all your task :P)"
   ]
  },
  {
   "cell_type": "code",
   "execution_count": 8,
   "metadata": {
    "scrolled": true
   },
   "outputs": [
    {
     "name": "stdout",
     "output_type": "stream",
     "text": [
      "0.9438\n",
      "[[496   0   0   0   1   1   1   0   1   0]\n",
      " [  0 492   1   0   0   5   0   0   2   0]\n",
      " [  2   4 459   4   7   2   2   4  13   3]\n",
      " [  0   3  11 453   0  16   1   6   5   5]\n",
      " [  0   2   2   0 477   0   4   0   4  11]\n",
      " [  3   1   3  12   5 456   5   0  10   5]\n",
      " [  2   2   0   0   1   6 488   0   1   0]\n",
      " [  2   3   3   0   4   1   0 474   1  12]\n",
      " [  1   6   5   7   5   5   2   1 463   5]\n",
      " [  4   2   3   5   4   3   1  14   3 461]]\n"
     ]
    }
   ],
   "source": [
    "Y=y.reshape(5000,)\n",
    "\n",
    "clf=LogisticRegression(multi_class='ovr',solver='liblinear').fit(x, Y)\n",
    "\n",
    "print(clf.score(x, Y))\n",
    "scikit_predictions= clf.predict(x)\n",
    "print(confusion_matrix(y, scikit_predictions)) \n",
    "\n",
    "\n",
    "\n",
    "\n"
   ]
  },
  {
   "cell_type": "code",
   "execution_count": null,
   "metadata": {},
   "outputs": [],
   "source": []
  }
 ],
 "metadata": {
  "kernelspec": {
   "display_name": "Python 3",
   "language": "python",
   "name": "python3"
  },
  "language_info": {
   "codemirror_mode": {
    "name": "ipython",
    "version": 3
   },
   "file_extension": ".py",
   "mimetype": "text/x-python",
   "name": "python",
   "nbconvert_exporter": "python",
   "pygments_lexer": "ipython3",
   "version": "3.8.5"
  }
 },
 "nbformat": 4,
 "nbformat_minor": 4
}
